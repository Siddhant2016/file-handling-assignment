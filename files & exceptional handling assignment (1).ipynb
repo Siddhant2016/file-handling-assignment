{
 "cells": [
  {
   "cell_type": "markdown",
   "id": "42cdda4f-cea8-4c5a-b3c0-e067a4981bce",
   "metadata": {},
   "source": [
    "# Theory Questions"
   ]
  },
  {
   "cell_type": "markdown",
   "id": "7a624886-ed17-46f6-b412-7dca5d18681d",
   "metadata": {},
   "source": [
    "Q1.What is the difference between interpreted and compiled languages?\n",
    "\n",
    "  - Interpreted languages execute code line-by-line using an interpreter, allowing for dynamic typing and easier debugging.\n",
    "  - Compiled languages translate the entire code into machine language before execution, resulting in faster performance but requiring a compilation step."
   ]
  },
  {
   "cell_type": "markdown",
   "id": "615e7eb6-d961-44c0-8073-ad7d9c7c80e6",
   "metadata": {},
   "source": [
    "Q2.What is exception handling in Python?\n",
    "\n",
    "  - Python uses try, except, else, and finally blocks to handle exceptions. The try block contains code that might raise an exception. If an exception         occurs, it's caught by the corresponding except block. The else block executes if no exceptions occur, and the finally block runs regardless of            exceptions, often used for cleanup actions."
   ]
  },
  {
   "cell_type": "markdown",
   "id": "7a608fab-be74-49fb-b6a3-c42d0505b95a",
   "metadata": {},
   "source": [
    "Q3.What is the purpose of the finally block in exception handling?\n",
    "\n",
    "  - The finally block ensures that specific code runs after the try and except blocks, regardless of whether an exception was raised. It's typically used for releasing resources like files or network connections."
   ]
  },
  {
   "cell_type": "markdown",
   "id": "83e99e55-b23f-4c2d-b4b0-91f00100b96b",
   "metadata": {},
   "source": [
    "Q4.What is logging in Python?\n",
    "\n",
    "  - Python's logging module provides a flexible framework for emitting log messages from Python programs. It helps in tracking events that happen during program execution, which is crucial for debugging and monitoring.\n",
    "\n"
   ]
  },
  {
   "cell_type": "markdown",
   "id": "b7463093-ff7e-4970-af6f-e50aa578838e",
   "metadata": {},
   "source": [
    "Q5.What is the significance of the __del__ method in Python?\n",
    "\n",
    "  - The __del__ method is a destructor in Python, called when an object is about to be destroyed. It's used to define cleanup actions, such as closing files or network connections.\n",
    "\n"
   ]
  },
  {
   "cell_type": "markdown",
   "id": "349cc4a7-3fa3-45dd-a0e2-c180b0c4ed4b",
   "metadata": {},
   "source": [
    "Q6.What is the difference between import and from ... import in Python?\n",
    "\n",
    "  - Using import module imports the entire module, requiring us to use the module name to access its functions (e.g., module.function()).\n",
    "  - In contrast, from module import function imports specific functions or classes directly, allowing us to use them without the module prefix."
   ]
  },
  {
   "cell_type": "markdown",
   "id": "e17aefd2-0616-467b-bcb9-0e5409a6aa16",
   "metadata": {},
   "source": [
    "Q7.How can you handle multiple exceptions in Python?\n",
    "\n",
    "  - Python allows handling multiple exceptions by specifying them as a tuple in a single except block.\n",
    "  - This approach simplifies code when the handling for multiple exceptions is the same."
   ]
  },
  {
   "cell_type": "markdown",
   "id": "39f98622-3c37-46cd-957a-9aca68128480",
   "metadata": {},
   "source": [
    "Q8.What is the purpose of the with statement when handling files in Python?\n",
    "\n",
    "  - The with statement simplifies exception handling by automatically managing resources. When working with files, it ensures that the file is properly closed after its suite finishes, even if an exception is raised\n",
    "  - This approach is cleaner and more concise than manually opening and closing files."
   ]
  },
  {
   "cell_type": "markdown",
   "id": "2e0faf2e-bc57-4a2f-a590-525003f508be",
   "metadata": {},
   "source": [
    "Q9.What is the difference between multithreading and multiprocessing?\n",
    "\n",
    "  - Multithreading involves multiple threads within a single process, sharing the same memory space, which can lead to issues like race conditions.\n",
    "  - Multiprocessing involves multiple processes, each with its own memory space, providing better isolation and taking advantage of multiple CPU cores."
   ]
  },
  {
   "cell_type": "markdown",
   "id": "863d0a20-a22d-4980-8063-bb48c0333f12",
   "metadata": {},
   "source": [
    "Q10.What are the advantages of using logging in a program?\n",
    "\n",
    "  - Logging provides a way to track events that happen when software runs. It helps in debugging, monitoring, and understanding the flow of a program. Unlike print statements, logs can be configured to include timestamps, log levels, and can be directed to different outputs like files or external systems."
   ]
  },
  {
   "cell_type": "markdown",
   "id": "fc2008cb-529a-4326-a897-6bdae3116254",
   "metadata": {},
   "source": [
    "Q11. What is memory management in Python?\n",
    "\n",
    "  - Python manages memory using a private heap space. The allocation of heap space for Python objects is done by Python's memory manager. The core API gives access to some tools for the programmer to code. Python also has an inbuilt garbage collector, which recycles all the unused memory to make it available for heap space."
   ]
  },
  {
   "cell_type": "markdown",
   "id": "71a1281e-b1b2-4577-81f9-aabeda7c2090",
   "metadata": {},
   "source": [
    "Q12.What are the basic steps involved in exception handling in Python?\n",
    "\n",
    "  - Try Block: Code that might raise an exception is placed inside the try block.\n",
    "\n",
    "  - Except Block: If an exception occurs, the code inside the except block is executed.\n",
    "\n",
    "  - Else Block: If no exception occurs, the code inside the else block is executed.\n",
    "\n",
    "  - Finally Block: This block is executed regardless of whether an exception occurred or not, typically used for cleanup actions.\n",
    "\n"
   ]
  },
  {
   "cell_type": "markdown",
   "id": "e0420eac-fc39-4711-83f2-68cfecf37ab5",
   "metadata": {},
   "source": [
    "Q13.Why is memory management important in Python?\n",
    "\n",
    "  - Efficient memory management ensures that programs run smoothly without consuming unnecessary resources. It helps in preventing memory leaks and optimizing performance, especially in long-running applications."
   ]
  },
  {
   "cell_type": "markdown",
   "id": "27e7e266-fd9f-45d4-a066-e35312047ae3",
   "metadata": {},
   "source": [
    "Q14.What is the role of try and except in exception handling?\n",
    "\n",
    "  - The try block lets you test a block of code for errors.\n",
    "  -  The except block lets you handle the error. This structure prevents the program from crashing and allows for graceful error handling."
   ]
  },
  {
   "cell_type": "markdown",
   "id": "0ffd6417-7e60-4f01-8234-00efa15309e2",
   "metadata": {},
   "source": [
    "Q15.How does Python's garbage collection system work?\n",
    "\n",
    "  - Python uses a garbage collector to manage memory. It employs reference counting and a cyclic garbage collector to detect and collect objects that are no longer in use, freeing up memory resources."
   ]
  },
  {
   "cell_type": "markdown",
   "id": "48d7d8ea-5d9d-4e48-a9ea-33f16806cab4",
   "metadata": {},
   "source": [
    "Q16.What is the purpose of the else block in exception handling?\n",
    "\n",
    "  - The else block is executed if the code inside the try block doesn't raise an exception. It's useful for code that should run only when the try block succeeds."
   ]
  },
  {
   "cell_type": "markdown",
   "id": "b744a503-88f3-4779-9eb3-91aae060f71c",
   "metadata": {},
   "source": [
    "Q17.What are the common logging levels in Python?\n",
    "\n",
    "  - DEBUG: Detailed information, typically of interest only when diagnosing problems.\n",
    "\n",
    "  - INFO: Confirmation that things are working as expected.\n",
    "\n",
    "  - WARNING: An indication that something unexpected happened.\n",
    "\n",
    "  - ERROR: A more serious problem, the software has not been able to perform some function.\n",
    "\n",
    "  - CRITICAL: A serious error, indicating that the program itself may be unable to continue running.\n",
    "\n"
   ]
  },
  {
   "cell_type": "markdown",
   "id": "f45fa965-d6ee-40e1-acac-53718732f7ab",
   "metadata": {},
   "source": [
    "Q18.What is the difference between os.fork() and multiprocessing in Python?\n",
    "\n",
    "  - os.fork() is a Unix-specific system call that creates a child process by duplicating the parent process.\n",
    "  - The multiprocessing module provides a more portable and higher-level interface for creating and managing processes, making it suitable for use across different operating systems."
   ]
  },
  {
   "cell_type": "markdown",
   "id": "9aaf4203-c83c-4517-98c7-5845e586708e",
   "metadata": {},
   "source": [
    "Q19.What is the importance of closing a file in Python?\n",
    "\n",
    "  - Closing a file ensures that all resources associated with the file are released. It also ensures that data is properly written and saved, preventing data corruption or loss.\n",
    "\n"
   ]
  },
  {
   "cell_type": "markdown",
   "id": "92bcc7ef-9923-48d1-a51e-e4ccb56071f1",
   "metadata": {},
   "source": [
    "Q20.What is the difference between file.read() and file.readline() in Python?\n",
    "\n",
    "  - file.read() reads the entire content of the file into a single string.\n",
    "\n",
    "  - file.readline() reads the file line by line, returning one line at a time."
   ]
  },
  {
   "cell_type": "markdown",
   "id": "cab3b098-ad36-49ad-a8f6-c7b79fd8b5a9",
   "metadata": {},
   "source": [
    "Q21.What is the logging module in Python used for?\n",
    "\n",
    "  - The logging module provides a flexible framework for emitting log messages from Python programs. It allows for different logging levels, output formats, and destinations, making it a powerful tool for tracking and debugging applications."
   ]
  },
  {
   "cell_type": "markdown",
   "id": "4b45feb0-e868-4536-b3f4-f0b9b0ed0f87",
   "metadata": {},
   "source": [
    "Q22.What is the os module in Python used for in file handling?\n",
    "\n",
    "  - The os module provides a way of using operating system-dependent functionality like reading or writing to the file system. It allows for file and directory manipulation, such as creating, removing, and changing directories."
   ]
  },
  {
   "cell_type": "markdown",
   "id": "75145b9e-8b95-44d9-8b9a-d683b22a84c5",
   "metadata": {},
   "source": [
    "Q23.What are the challenges associated with memory management in Python?\n",
    "\n",
    "  - Managing memory efficiently can be challenging, especially in large applications. Issues like memory leaks, fragmentation, and inefficient use of resources can lead to performance degradation. Python's garbage collector helps, but developers must still be mindful of how they manage resources."
   ]
  },
  {
   "cell_type": "markdown",
   "id": "977fe91d-19b1-48ea-bd67-497052bd4a4f",
   "metadata": {},
   "source": [
    "Q24.How do you raise an exception manually in Python?\n",
    "\n",
    "  - You can raise exceptions manually using the raise keyword, followed by an exception instance. This is useful for enforcing certain conditions in our code."
   ]
  },
  {
   "cell_type": "markdown",
   "id": "c07c544b-9679-426c-95a0-c0f1dbfe2858",
   "metadata": {},
   "source": [
    "Q25.Why is it important to use multithreading in certain applications?\n",
    "\n",
    "  - Multithreading allows a program to run multiple threads (smaller units of a process) concurrently. It's beneficial for tasks that are I/O-bound, such as reading and writing to files or network operations, as it can improve the efficiency and responsiveness of applications."
   ]
  },
  {
   "cell_type": "markdown",
   "id": "e83f86fc-d721-4872-873f-cb40fbb62061",
   "metadata": {},
   "source": [
    "# Practical Questions"
   ]
  },
  {
   "cell_type": "markdown",
   "id": "e8bba7fa-dd78-475a-8318-5b017db21920",
   "metadata": {},
   "source": [
    "Q1.How can you open a file for writing in Python and write a string to it?\n",
    "\n",
    "  - we can open a file in write mode using the open() function with the 'w' mode, and then use the write() method to write a string to it. For example:"
   ]
  },
  {
   "cell_type": "code",
   "execution_count": 7,
   "id": "2fda56ca-85ed-4e91-a319-a91f55807e40",
   "metadata": {},
   "outputs": [],
   "source": [
    "with open('example.txt', 'w') as file:\n",
    "    file.write('siddhant , singh!')"
   ]
  },
  {
   "cell_type": "markdown",
   "id": "2aa9e8a6-13f3-4e61-8063-68818f529882",
   "metadata": {},
   "source": [
    "Q2.Write a Python program to read the contents of a file and print each line?"
   ]
  },
  {
   "cell_type": "code",
   "execution_count": 8,
   "id": "6ebff532-b315-4c0a-b928-f530b6444b1d",
   "metadata": {},
   "outputs": [
    {
     "name": "stdout",
     "output_type": "stream",
     "text": [
      "siddhant , singh!\n"
     ]
    }
   ],
   "source": [
    "with open('example.txt', 'r') as file:\n",
    "    for line in file:\n",
    "        print(line.strip())"
   ]
  },
  {
   "cell_type": "markdown",
   "id": "99e5f14a-2a70-4292-ac7a-b4d3234b5c5d",
   "metadata": {},
   "source": [
    "Q3.How would you handle a case where the file doesn't exist while trying to open it for reading?"
   ]
  },
  {
   "cell_type": "code",
   "execution_count": 9,
   "id": "fb016354-807d-490e-9a3d-96f6bf0631a8",
   "metadata": {},
   "outputs": [
    {
     "name": "stdout",
     "output_type": "stream",
     "text": [
      "The file does not exist.\n"
     ]
    }
   ],
   "source": [
    "try:\n",
    "    with open('nonexistent.txt', 'r') as file:\n",
    "        content = file.read()\n",
    "except FileNotFoundError:\n",
    "    print(\"The file does not exist.\")"
   ]
  },
  {
   "cell_type": "markdown",
   "id": "4673a345-19d7-47ee-88fb-bc1cb19820bc",
   "metadata": {},
   "source": [
    "Q4.Write a Python script that reads from one file and writes its content to another file?"
   ]
  },
  {
   "cell_type": "code",
   "execution_count": null,
   "id": "0ada415c-14ab-4e74-bec8-c4024cfdf45b",
   "metadata": {},
   "outputs": [],
   "source": [
    "# Open 'source.txt' in read mode and 'destination.txt' in write mode\n",
    "with open('source.txt', 'r') as source_file, open('destination.txt', 'w') as destination_file:\n",
    "    # Iterate over each line in the source file\n",
    "    for line in source_file:\n",
    "        # Write the line to the destination file\n",
    "        destination_file.write(line)"
   ]
  },
  {
   "cell_type": "markdown",
   "id": "cd54fd8d-f9e8-48e2-8459-1879ad4bbca2",
   "metadata": {},
   "source": [
    "Q5.How would you catch and handle division by zero error in Python?"
   ]
  },
  {
   "cell_type": "code",
   "execution_count": 13,
   "id": "211a856d-aaf4-49e8-bb16-9d4aaaf95289",
   "metadata": {},
   "outputs": [
    {
     "name": "stdout",
     "output_type": "stream",
     "text": [
      "Cannot divide by zero.\n"
     ]
    }
   ],
   "source": [
    "try:\n",
    "    result = 10 / 0\n",
    "except ZeroDivisionError:\n",
    "    print(\"Cannot divide by zero.\")"
   ]
  },
  {
   "cell_type": "markdown",
   "id": "e5ae01db-577d-4fac-b933-907efced63f5",
   "metadata": {},
   "source": [
    "Q6.Write a Python program that logs an error message to a log file when a division by zero exception occurs?"
   ]
  },
  {
   "cell_type": "code",
   "execution_count": 14,
   "id": "52e1dbf5-9389-476b-a2b9-cc48f2b45079",
   "metadata": {},
   "outputs": [],
   "source": [
    "import logging\n",
    "\n",
    "logging.basicConfig(filename='app.log', level=logging.ERROR)\n",
    "\n",
    "try:\n",
    "    result = 10 / 0\n",
    "except ZeroDivisionError as e:\n",
    "    logging.error(\"Division by zero error: %s\", e)"
   ]
  },
  {
   "cell_type": "markdown",
   "id": "77013b8c-5bb8-4658-883c-bb306cd330e2",
   "metadata": {},
   "source": [
    "Q7. How do you log information at different levels (INFO, ERROR, WARNING) in Python using the logging module?"
   ]
  },
  {
   "cell_type": "code",
   "execution_count": 15,
   "id": "acaa8fb0-ab35-48ff-ad3f-7bd07c6bcadf",
   "metadata": {},
   "outputs": [],
   "source": [
    "import logging\n",
    "\n",
    "logging.basicConfig(level=logging.DEBUG)\n",
    "\n",
    "logging.debug(\"This is a debug message.\")\n",
    "logging.info(\"This is an info message.\")\n",
    "logging.warning(\"This is a warning message.\")\n",
    "logging.error(\"This is an error message.\")\n",
    "logging.critical(\"This is a critical message.\")"
   ]
  },
  {
   "cell_type": "markdown",
   "id": "5fae8a79-ef25-4412-aff0-9ce2faa9aa08",
   "metadata": {},
   "source": [
    "Q8.Write a program to handle a file opening error using exception handling?"
   ]
  },
  {
   "cell_type": "code",
   "execution_count": 16,
   "id": "cee0054e-b4de-4073-a0d1-a421604aac29",
   "metadata": {},
   "outputs": [
    {
     "name": "stdout",
     "output_type": "stream",
     "text": [
      "An error occurred while opening the file.\n"
     ]
    }
   ],
   "source": [
    "try:\n",
    "    with open('file.txt', 'r') as file:\n",
    "        content = file.read()\n",
    "except IOError:\n",
    "    print(\"An error occurred while opening the file.\")"
   ]
  },
  {
   "cell_type": "markdown",
   "id": "ce458fda-473d-4d70-b06c-b1c290b62ab6",
   "metadata": {},
   "source": [
    "Q9.How can you read a file line by line and store its content in a list in Python?"
   ]
  },
  {
   "cell_type": "code",
   "execution_count": null,
   "id": "96943283-4365-42b5-b9a2-a26939248092",
   "metadata": {},
   "outputs": [],
   "source": [
    "with open('file.txt', 'r') as file:\n",
    "    lines = [line.strip() for line in file]"
   ]
  },
  {
   "cell_type": "markdown",
   "id": "0c1f8833-1c3b-4e23-8042-6d71e5c16257",
   "metadata": {},
   "source": [
    "Q10. How can you append data to an existing file in Python?"
   ]
  },
  {
   "cell_type": "code",
   "execution_count": 18,
   "id": "4e8ebf17-5db3-4154-944b-2e9627346a30",
   "metadata": {},
   "outputs": [],
   "source": [
    "with open('file.txt', 'a') as file:\n",
    "    file.write('Additional content.\\n')"
   ]
  },
  {
   "cell_type": "markdown",
   "id": "0ecaf890-5d1f-428b-a537-60e373dad5d7",
   "metadata": {},
   "source": [
    "Q11.Write a Python program that uses a try-except block to handle an error when attempting to access a\n",
    "dictionary key that doesn't exist?"
   ]
  },
  {
   "cell_type": "code",
   "execution_count": 19,
   "id": "2d290d9f-6cb8-4523-86e5-9318fc6f7685",
   "metadata": {},
   "outputs": [
    {
     "name": "stdout",
     "output_type": "stream",
     "text": [
      "Key not found in dictionary.\n"
     ]
    }
   ],
   "source": [
    "my_dict = {'a': 1, 'b': 2}\n",
    "\n",
    "try:\n",
    "    value = my_dict['c']\n",
    "except KeyError:\n",
    "    print(\"Key not found in dictionary.\")"
   ]
  },
  {
   "cell_type": "markdown",
   "id": "8f5f8a1c-9e50-439b-9af5-6fef6c862193",
   "metadata": {},
   "source": [
    "Q12.Write a program that demonstrates using multiple except blocks to handle different types of exceptions?"
   ]
  },
  {
   "cell_type": "code",
   "execution_count": 20,
   "id": "83053bcd-2766-4a18-a959-22f74a92cb8d",
   "metadata": {},
   "outputs": [
    {
     "name": "stdout",
     "output_type": "stream",
     "text": [
      "Cannot divide by zero.\n"
     ]
    }
   ],
   "source": [
    "try:\n",
    "    result = 10 / 0\n",
    "except ZeroDivisionError:\n",
    "    print(\"Cannot divide by zero.\")\n",
    "except TypeError:\n",
    "    print(\"Invalid type encountered.\")"
   ]
  },
  {
   "cell_type": "markdown",
   "id": "679541f0-21bc-41db-89eb-c00daf220f5f",
   "metadata": {},
   "source": [
    "Q13.How would you check if a file exists before attempting to read it in Python?"
   ]
  },
  {
   "cell_type": "code",
   "execution_count": 21,
   "id": "3e73a174-b7f5-4dfe-8110-f873813f173f",
   "metadata": {},
   "outputs": [],
   "source": [
    "import os\n",
    "\n",
    "if os.path.exists('file.txt'):\n",
    "    with open('file.txt', 'r') as file:\n",
    "        content = file.read()\n",
    "else:\n",
    "    print(\"File does not exist.\")"
   ]
  },
  {
   "cell_type": "markdown",
   "id": "a11e9b09-53ab-4ae3-8206-fcc69fd68ca7",
   "metadata": {},
   "source": [
    "Q14.Write a program that uses the logging module to log both informational and error messages."
   ]
  },
  {
   "cell_type": "code",
   "execution_count": 22,
   "id": "4a0a74fb-a489-4a6f-972c-013c5c0beffc",
   "metadata": {},
   "outputs": [],
   "source": [
    "import logging\n",
    "\n",
    "logging.basicConfig(filename='app.log', level=logging.DEBUG)\n",
    "\n",
    "logging.info(\"This is an informational message.\")\n",
    "logging.error(\"This is an error message.\")"
   ]
  },
  {
   "cell_type": "markdown",
   "id": "18d8ed5c-c3cd-44fc-9109-5dfa7cf49bd8",
   "metadata": {},
   "source": [
    "Q15.Write a Python program that prints the content of a file and handles the case when the file is empty."
   ]
  },
  {
   "cell_type": "code",
   "execution_count": 23,
   "id": "8eb8a545-7406-40f0-892d-3ba622b571e0",
   "metadata": {},
   "outputs": [
    {
     "name": "stdout",
     "output_type": "stream",
     "text": [
      "Additional content.\n",
      "\n"
     ]
    }
   ],
   "source": [
    "with open('file.txt', 'r') as file:\n",
    "    content = file.read()\n",
    "    if not content:\n",
    "        print(\"The file is empty.\")\n",
    "    else:\n",
    "        print(content)"
   ]
  },
  {
   "cell_type": "markdown",
   "id": "aeed20ac-e575-4be5-8545-78d1832198e7",
   "metadata": {},
   "source": [
    "Q16.Demonstrate how to use memory profiling to check the memory usage of a small program."
   ]
  },
  {
   "cell_type": "code",
   "execution_count": null,
   "id": "2bfc4492-89cf-4dbc-8848-9c6c95e1de6f",
   "metadata": {},
   "outputs": [],
   "source": [
    "from memory_profiler import profile\n",
    "\n",
    "@profile\n",
    "def my_func():\n",
    "    a = [i for i in range(10000)]\n",
    "    return a\n",
    "\n",
    "my_func()"
   ]
  },
  {
   "cell_type": "markdown",
   "id": "cfed4d09-0435-4467-961b-5c525dfd0e74",
   "metadata": {},
   "source": [
    "Q17.Write a Python program to create and write a list of numbers to a file, one number per line.\n"
   ]
  },
  {
   "cell_type": "code",
   "execution_count": 27,
   "id": "4aae171f-938b-4888-be2d-64baba5c8857",
   "metadata": {},
   "outputs": [],
   "source": [
    "numbers = [1, 2, 3, 4, 5]\n",
    "\n",
    "with open('numbers.txt', 'w') as file:\n",
    "    for number in numbers:\n",
    "        file.write(f\"{number}\\n\")"
   ]
  },
  {
   "cell_type": "markdown",
   "id": "444e02ee-b733-47bd-855b-08e780ccb119",
   "metadata": {},
   "source": [
    "Q18.How would you implement a basic logging setup that logs to a file with rotation after 1MB?"
   ]
  },
  {
   "cell_type": "code",
   "execution_count": null,
   "id": "df0c705a-2209-4de4-9120-d534abc07321",
   "metadata": {},
   "outputs": [],
   "source": [
    "import logging\n",
    "from logging.handlers import RotatingFileHandler\n",
    "\n",
    "logger = logging.getLogger('my_logger')\n",
    "logger.setLevel(logging.DEBUG\n",
    "::contentReference[oaicite:192]{index=192}"
   ]
  },
  {
   "cell_type": "markdown",
   "id": "42293012-48e3-4cc6-a5a2-2ffec831c0f7",
   "metadata": {},
   "source": [
    "Q19.Write a program that handles both IndexError and KeyError using a try-except block."
   ]
  },
  {
   "cell_type": "code",
   "execution_count": 29,
   "id": "c65b33db-0584-4367-bbed-20f67da20510",
   "metadata": {},
   "outputs": [
    {
     "name": "stdout",
     "output_type": "stream",
     "text": [
      "siddhant , singh!\n"
     ]
    }
   ],
   "source": [
    "with open('example.txt', 'r') as file:\n",
    "    contents = file.read()\n",
    "    print(contents)"
   ]
  },
  {
   "cell_type": "markdown",
   "id": "3a9e3e84-3687-4517-94bc-9aca81296522",
   "metadata": {},
   "source": [
    "Q20.How would you open a file and read its contents using a context manager in Python?"
   ]
  },
  {
   "cell_type": "code",
   "execution_count": 30,
   "id": "41ad3290-3a79-4bee-a413-df9ee2e52d5a",
   "metadata": {},
   "outputs": [
    {
     "name": "stdout",
     "output_type": "stream",
     "text": [
      "The word 'python' occurs 0 times in example.txt.\n"
     ]
    }
   ],
   "source": [
    "def count_word_occurrences(filename, word):\n",
    "    with open(filename, 'r') as file:\n",
    "        content = file.read()\n",
    "        return content.lower().split().count(word.lower())\n",
    "\n",
    "filename = 'example.txt'\n",
    "word = 'python'\n",
    "count = count_word_occurrences(filename, word)\n",
    "print(f\"The word '{word}' occurs {count} times in {filename}.\")"
   ]
  },
  {
   "cell_type": "markdown",
   "id": "987de252-0b8d-4775-bd77-320b810ed54a",
   "metadata": {},
   "source": [
    "Q21.Write a Python program that reads a file and prints the number of occurrences of a specific word."
   ]
  },
  {
   "cell_type": "code",
   "execution_count": 31,
   "id": "e201461b-8ecb-4833-8f40-82c3fed47f8b",
   "metadata": {},
   "outputs": [
    {
     "name": "stdout",
     "output_type": "stream",
     "text": [
      "siddhant , singh!\n"
     ]
    }
   ],
   "source": [
    "import os\n",
    "\n",
    "filename = 'example.txt'\n",
    "if os.path.getsize(filename) == 0:\n",
    "    print(\"The file is empty.\")\n",
    "else:\n",
    "    with open(filename, 'r') as file:\n",
    "        print(file.read())"
   ]
  },
  {
   "cell_type": "markdown",
   "id": "5a39164c-272e-434e-a7fa-ad5ac41ea532",
   "metadata": {},
   "source": [
    "Q22.How can you check if a file is empty before attempting to read its contents?"
   ]
  },
  {
   "cell_type": "code",
   "execution_count": 32,
   "id": "d8c452c0-265a-4d60-b84d-c7f8f90cd6e3",
   "metadata": {},
   "outputs": [
    {
     "name": "stdout",
     "output_type": "stream",
     "text": [
      "An error occurred. Check error.log for details.\n"
     ]
    }
   ],
   "source": [
    "import logging\n",
    "\n",
    "logging.basicConfig(filename='error.log', level=logging.ERROR)\n",
    "\n",
    "try:\n",
    "    with open('nonexistent.txt', 'r') as file:\n",
    "        content = file.read()\n",
    "except FileNotFoundError as e:\n",
    "    logging.error(\"File not found: %s\", e)\n",
    "    print(\"An error occurred. Check error.log for details.\")"
   ]
  },
  {
   "cell_type": "code",
   "execution_count": null,
   "id": "ebb890fa-c8fc-4720-81ff-f2218b6a9d8d",
   "metadata": {},
   "outputs": [],
   "source": [
    "Q23."
   ]
  }
 ],
 "metadata": {
  "kernelspec": {
   "display_name": "Python 3 (ipykernel)",
   "language": "python",
   "name": "python3"
  },
  "language_info": {
   "codemirror_mode": {
    "name": "ipython",
    "version": 3
   },
   "file_extension": ".py",
   "mimetype": "text/x-python",
   "name": "python",
   "nbconvert_exporter": "python",
   "pygments_lexer": "ipython3",
   "version": "3.11.2"
  }
 },
 "nbformat": 4,
 "nbformat_minor": 5
}
